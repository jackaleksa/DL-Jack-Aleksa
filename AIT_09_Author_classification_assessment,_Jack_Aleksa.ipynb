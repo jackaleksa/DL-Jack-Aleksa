{
  "nbformat": 4,
  "nbformat_minor": 0,
  "metadata": {
    "kernelspec": {
      "display_name": "Python 3",
      "language": "python",
      "name": "python3"
    },
    "language_info": {
      "codemirror_mode": {
        "name": "ipython",
        "version": 3
      },
      "file_extension": ".py",
      "mimetype": "text/x-python",
      "name": "python",
      "nbconvert_exporter": "python",
      "pygments_lexer": "ipython3",
      "version": "3.6.6"
    },
    "colab": {
      "provenance": [],
      "include_colab_link": true
    }
  },
  "cells": [
    {
      "cell_type": "markdown",
      "metadata": {
        "id": "view-in-github",
        "colab_type": "text"
      },
      "source": [
        "<a href=\"https://colab.research.google.com/github/jackaleksa/DL-Jack-Aleksa/blob/main/AIT_09_Author_classification_assessment%2C_Jack_Aleksa.ipynb\" target=\"_parent\"><img src=\"https://colab.research.google.com/assets/colab-badge.svg\" alt=\"Open In Colab\"/></a>"
      ]
    },
    {
      "cell_type": "markdown",
      "metadata": {
        "id": "_jiGtJu6u9ml"
      },
      "source": [
        "# Copyright\n",
        "\n",
        "<PRE>\n",
        "Copyright (c) 2021 Bálint Gyires-Tóth - All Rights Reserved\n",
        "You may use and modify this code for research and development purpuses.\n",
        "Use this code for educational purposes (self-paced or instructor led) without the permission of the author is prohibited.\n",
        "</PRE>"
      ]
    },
    {
      "cell_type": "markdown",
      "metadata": {
        "id": "oXyFC44jV-PP"
      },
      "source": [
        "# Author classification\n",
        "The task is to train a 1D CNN or an LSTM that is able to  classify text from two authors. The final model should be able to tell about a text with a given length (e.g. 60 characters) who wrote it. \n",
        "\n",
        "Please write the codes according to the following parts:"
      ]
    },
    {
      "cell_type": "markdown",
      "metadata": {
        "id": "jCnLoeGrHXsp"
      },
      "source": [
        "## Python module imports\n",
        "Import all Python modules that you would need during the Assignment."
      ]
    },
    {
      "cell_type": "code",
      "metadata": {
        "id": "7itbFGt3HXVT"
      },
      "source": [
        "from tensorflow.keras.models import Sequential\n",
        "from tensorflow.keras.layers import Dense, Activation, Dropout\n",
        "from tensorflow.keras.layers import LSTM\n",
        "from tensorflow.keras.optimizers import RMSprop\n",
        "from urllib.request import urlretrieve\n",
        "import numpy as np\n",
        "import random\n",
        "import sys\n",
        "import re, cgi\n",
        "import matplotlib.pyplot as plt\n",
        "import seaborn as sns\n",
        "import pandas as pd\n",
        "from collections import Counter\n",
        "from tensorflow.keras.callbacks import EarlyStopping\n",
        "from sklearn.metrics import confusion_matrix, classification_report\n",
        "from tensorflow.keras.layers import Dense, Embedding, Flatten, Dropout\n",
        "from tensorflow.keras.initializers import HeNormal\n",
        "from tensorflow.keras.layers import Dense, Conv2D, MaxPool2D, Flatten, Dropout, BatchNormalization\n",
        "from tensorflow.keras.layers import Activation, Dense, Flatten, Conv1D, MaxPooling1D, Dropout"
      ],
      "execution_count": 2,
      "outputs": []
    },
    {
      "cell_type": "markdown",
      "metadata": {
        "id": "Hr617tEpHd8R"
      },
      "source": [
        "## Data acquisition\n",
        "Seek a possible dataset, you can use any source, e.g.\n",
        "* http://www.gutenberg.org/\n",
        "* https://www.kaggle.com/datasets\n",
        "* https://paperswithcode.com/datasets\n",
        "* if you would like to learn Hungarian, than e.g. https://mek.oszk.hu/\n",
        "\n",
        "You can download the text by hand (e.g. by copy-pasting some parts into txt files) or with Python. "
      ]
    },
    {
      "cell_type": "code",
      "metadata": {
        "id": "NgkdQxHqHdZB"
      },
      "source": [
        "url_book=\"https://www.gutenberg.org/cache/epub/45/pg45.txt\"\n",
        "urlretrieve(url_book, 'book0.txt')\n",
        "text0 = open(\"book0.txt\", encoding='utf-8').read().lower()\n",
        "count0 = Counter(text0)\n",
        "\n",
        "url_book=\"http://www.gutenberg.org/files/2151/2151-0.txt\"\n",
        "urlretrieve(url_book, 'book1.txt')\n",
        "text1 = open(\"book1.txt\", encoding='utf-8').read().lower()\n",
        "count1 = Counter(text1)"
      ],
      "execution_count": 3,
      "outputs": []
    },
    {
      "cell_type": "markdown",
      "source": [
        "## Data analysis\n",
        "Count the number of characters from both authors and display them on a plot (e.g. Seaborn's countplot)."
      ],
      "metadata": {
        "id": "U9Pmq91t3SRD"
      }
    },
    {
      "cell_type": "code",
      "source": [
        "print('Unique characters of the book Anne of Green Gables:', len(text0))\n",
        "print('Unique characters of the book The Works of Edgar Allan Poe, Volume 5:', len(text1))\n",
        "\n",
        "text = text0 + text1\n",
        "count = Counter(text)\n",
        "\n",
        "plt.figure(figsize=(12,6))\n",
        "plt.yscale('log')\n",
        "plt.bar(count.keys(), count.values())\n",
        "plt.title('Total Number of Characters')\n",
        "plt.show()"
      ],
      "metadata": {
        "id": "uRqGdn4F3Spk",
        "colab": {
          "base_uri": "https://localhost:8080/",
          "height": 580
        },
        "outputId": "e8799fe5-2e95-41c5-c41b-c01fd6df9c2b"
      },
      "execution_count": 4,
      "outputs": [
        {
          "output_type": "stream",
          "name": "stdout",
          "text": [
            "Unique characters of the book Anne of Green Gables: 580100\n",
            "Unique characters of the book The Works of Edgar Allan Poe, Volume 5: 486583\n"
          ]
        },
        {
          "output_type": "display_data",
          "data": {
            "text/plain": [
              "<Figure size 1200x600 with 1 Axes>"
            ],
            "image/png": "[encoded data removed]"
          },
          "metadata": {}
        }
      ]
    },
    {
      "cell_type": "code",
      "source": [
        "num_chars0 = len(text0)\n",
        "num_chars1 = len(text1)\n",
        "\n",
        "# Display results on Seaborn countplot\n",
        "authors = ['Anne of Green Gables', 'Edgar Allen Poe']\n",
        "char_counts = [num_chars0, num_chars1]\n",
        "\n",
        "sns.barplot(x=authors, y=char_counts)\n",
        "plt.ylabel('Number of Characters')\n",
        "plt.xlabel('Books')\n",
        "plt.title('Text Character Count by Book')\n",
        "plt.show()"
      ],
      "metadata": {
        "colab": {
          "base_uri": "https://localhost:8080/",
          "height": 472
        },
        "id": "tDQIsguHYTkT",
        "outputId": "6858df4f-4dae-4509-c84c-c8fcb51b0e6d"
      },
      "execution_count": 5,
      "outputs": [
        {
          "output_type": "display_data",
          "data": {
            "text/plain": [
              "<Figure size 640x480 with 1 Axes>"
            ],
            "image/png": "[encoded data removed]"
          },
          "metadata": {}
        }
      ]
    },
    {
      "cell_type": "markdown",
      "metadata": {
        "id": "cHyE_ndGIblJ"
      },
      "source": [
        "## Data loading, labeling and preprocessing\n",
        "Load the data and convert the characters into one-hot encodings. Then load the data into a 3D NumPy array, with a shape of\n",
        "\n",
        "* (batch, sequence_length, alphabet_length)\n",
        "\n",
        "where sequence_length=60, and alphabet_length equals to the number of unique characters in both datasets. The sequences should be cut out from the complete dataset by sliding window. You should add 0 and 1 labels to the sequences, according to the author. \n",
        "\n",
        "Later you may change sequence_length to achieve better results!"
      ]
    },
    {
      "cell_type": "code",
      "metadata": {
        "id": "arooXt0WIb6x",
        "colab": {
          "base_uri": "https://localhost:8080/"
        },
        "outputId": "6b972589-a0ed-41ec-da94-b18a181796b6"
      },
      "source": [
        "unique_chars = sorted(list(set(text0+text1)))\n",
        "\n",
        "char_indices = dict((c, i) for i, c in enumerate(unique_chars))\n",
        "indices_char = dict((i, c) for i, c in enumerate(unique_chars))\n",
        "\n",
        "maxlen  = 60\n",
        "step    = 10   # the step size between two \"sentence\" is 10 characters\n",
        "\n",
        "sentences0  = [] # maxlen number of characters, with \"step\" overlap between two \"sentences\" \n",
        "sentences1  = [] # maxlen number of characters, with \"step\" overlap between two \"sentences\" \n",
        "\n",
        "for i in range(0, len(text0)-maxlen, step):\n",
        "    sentences0.append(text0[i:i+maxlen])\n",
        "\n",
        "for i in range(0, len(text1)-maxlen, step):\n",
        "    sentences1.append(text1[i:i+maxlen])\n",
        "\n",
        "X = np.zeros((len(sentences0 + sentences1), maxlen, len(unique_chars)))\n",
        "Y = np.zeros((len(sentences0 + sentences1), 2))\n",
        "\n",
        "for i, sentence in enumerate(sentences0):\n",
        "    for t, char in enumerate(sentence): \n",
        "        X[i,t,char_indices[char]] = 1\n",
        "    Y[i,0] = 1\n",
        "\n",
        "for i, sentence in enumerate(sentences1):\n",
        "    for t, char in enumerate(sentence): \n",
        "        X[i + len(sentences0),t,char_indices[char]] = 1\n",
        "    Y[i + len(sentences0),1] = 1\n",
        "\n",
        "indices = np.arange(len(X))\n",
        "np.random.shuffle(indices)\n",
        "X = X[indices]\n",
        "Y = Y[indices]\n",
        "\n",
        "print (\"Shape of the input data:\", X.shape)\n",
        "print (\"Shape of the target data:\", Y.shape)"
      ],
      "execution_count": 6,
      "outputs": [
        {
          "output_type": "stream",
          "name": "stdout",
          "text": [
            "Shape of the input data: (106657, 60, 98)\n",
            "Shape of the target data: (106657, 2)\n"
          ]
        }
      ]
    },
    {
      "cell_type": "markdown",
      "metadata": {
        "id": "lL1Mc8ibHnep"
      },
      "source": [
        "## Data splitting\n",
        "Split the data into train, validate and test sets. Make "
      ]
    },
    {
      "cell_type": "code",
      "metadata": {
        "id": "ELyG9XFUHrkB",
        "colab": {
          "base_uri": "https://localhost:8080/"
        },
        "outputId": "eed0864d-fc51-4421-dee0-631ec203f383"
      },
      "source": [
        "train_ratio  = 0.8\n",
        "train_length = X.shape[0]\n",
        "train_split  = int(train_ratio*train_length)\n",
        "X_test, Y_test = X[train_split:], Y[train_split:]\n",
        "X_train, Y_train = X[:train_split], Y[:train_split] \n",
        "\n",
        "valid_ratio  = 0.75\n",
        "valid_length = X_train.shape[0]\n",
        "valid_split  = int(valid_ratio*valid_length)\n",
        "X_valid, Y_valid = X_train[valid_split:], Y_train[valid_split:]\n",
        "X_train, Y_train = X_train[:valid_split], Y_train[:valid_split]\n",
        "print(Y_test[:,0].sum())"
      ],
      "execution_count": 7,
      "outputs": [
        {
          "output_type": "stream",
          "name": "stdout",
          "text": [
            "11735.0\n"
          ]
        }
      ]
    },
    {
      "cell_type": "markdown",
      "metadata": {
        "id": "hA8U9tr7HrNQ"
      },
      "source": [
        "## Model definition\n",
        "Define a 1D CNN or an LSTM for the task. Compile the model with the correct loss function."
      ]
    },
    {
      "cell_type": "code",
      "metadata": {
        "id": "BT1V1s4kHuUe"
      },
      "source": [
        "model = Sequential()\n",
        "model.add(Conv1D(filters=128, kernel_size=3, activation='relu', kernel_initializer='he_normal', input_shape=(X_train.shape[1], X_train.shape[2])))\n",
        "model.add(MaxPooling1D())\n",
        "model.add(Dropout(0.5))\n",
        "model.add(Conv1D(filters=128, kernel_size=3, activation='relu', kernel_initializer='he_normal'))\n",
        "model.add(MaxPooling1D())\n",
        "model.add(Dropout(0.5))\n",
        "model.add(Flatten())\n",
        "model.add(Dense(128, activation='relu'))\n",
        "model.add(Dropout(0.5))\n",
        "model.add(Dense(Y_train.shape[1], activation='sigmoid'))"
      ],
      "execution_count": 8,
      "outputs": []
    },
    {
      "cell_type": "code",
      "source": [
        "model.summary()"
      ],
      "metadata": {
        "colab": {
          "base_uri": "https://localhost:8080/"
        },
        "id": "NAcq-1J_fQT5",
        "outputId": "f6189ce4-8ea7-4177-ea7c-e12ddb3e2876"
      },
      "execution_count": 9,
      "outputs": [
        {
          "output_type": "stream",
          "name": "stdout",
          "text": [
            "Model: \"sequential\"\n",
            "_________________________________________________________________\n",
            " Layer (type)                Output Shape              Param #   \n",
            "=================================================================\n",
            " conv1d (Conv1D)             (None, 58, 128)           37760     \n",
            "                                                                 \n",
            " max_pooling1d (MaxPooling1D  (None, 29, 128)          0         \n",
            " )                                                               \n",
            "                                                                 \n",
            " dropout (Dropout)           (None, 29, 128)           0         \n",
            "                                                                 \n",
            " conv1d_1 (Conv1D)           (None, 27, 128)           49280     \n",
            "                                                                 \n",
            " max_pooling1d_1 (MaxPooling  (None, 13, 128)          0         \n",
            " 1D)                                                             \n",
            "                                                                 \n",
            " dropout_1 (Dropout)         (None, 13, 128)           0         \n",
            "                                                                 \n",
            " flatten (Flatten)           (None, 1664)              0         \n",
            "                                                                 \n",
            " dense (Dense)               (None, 128)               213120    \n",
            "                                                                 \n",
            " dropout_2 (Dropout)         (None, 128)               0         \n",
            "                                                                 \n",
            " dense_1 (Dense)             (None, 2)                 258       \n",
            "                                                                 \n",
            "=================================================================\n",
            "Total params: 300,418\n",
            "Trainable params: 300,418\n",
            "Non-trainable params: 0\n",
            "_________________________________________________________________\n"
          ]
        }
      ]
    },
    {
      "cell_type": "markdown",
      "metadata": {
        "id": "hWFb-nAMHuAI"
      },
      "source": [
        "## Model training\n",
        "Train the model and apply early stopping."
      ]
    },
    {
      "cell_type": "code",
      "metadata": {
        "id": "dvgKjqp3Hwkp",
        "colab": {
          "base_uri": "https://localhost:8080/"
        },
        "outputId": "6df694a3-7a2b-4e35-bff9-06d84e4e40e2"
      },
      "source": [
        "optimizer = RMSprop(learning_rate=0.01)\n",
        "model.compile(loss='binary_crossentropy', optimizer= optimizer)\n",
        "\n",
        "es = EarlyStopping(patience=3, restore_best_weights=True, monitor=\"val_loss\")\n",
        "\n",
        "model.fit(X_train, Y_train, \n",
        "          validation_data = (X_valid,Y_valid),\n",
        "          epochs=20, batch_size=128, \n",
        "          callbacks=[es],\n",
        "          verbose=2)"
      ],
      "execution_count": 10,
      "outputs": [
        {
          "output_type": "stream",
          "name": "stdout",
          "text": [
            "Epoch 1/20\n",
            "500/500 - 45s - loss: 0.2486 - val_loss: 0.1376 - 45s/epoch - 89ms/step\n",
            "Epoch 2/20\n",
            "500/500 - 43s - loss: 0.1652 - val_loss: 0.1410 - 43s/epoch - 85ms/step\n",
            "Epoch 3/20\n",
            "500/500 - 41s - loss: 0.1552 - val_loss: 0.2254 - 41s/epoch - 82ms/step\n",
            "Epoch 4/20\n",
            "500/500 - 42s - loss: 0.1544 - val_loss: 0.1228 - 42s/epoch - 84ms/step\n",
            "Epoch 5/20\n",
            "500/500 - 41s - loss: 0.1554 - val_loss: 0.1755 - 41s/epoch - 82ms/step\n",
            "Epoch 6/20\n",
            "500/500 - 41s - loss: 0.1504 - val_loss: 0.1260 - 41s/epoch - 82ms/step\n",
            "Epoch 7/20\n",
            "500/500 - 41s - loss: 0.1516 - val_loss: 0.1235 - 41s/epoch - 82ms/step\n"
          ]
        },
        {
          "output_type": "execute_result",
          "data": {
            "text/plain": [
              "<keras.callbacks.History at 0x7efe34a2ccd0>"
            ]
          },
          "metadata": {},
          "execution_count": 10
        }
      ]
    },
    {
      "cell_type": "markdown",
      "metadata": {
        "id": "0omw2XzSHwOo"
      },
      "source": [
        "## Evaluation on test data\n",
        "Evaluate the model on the test data in terms of loss and accuracy."
      ]
    },
    {
      "cell_type": "code",
      "metadata": {
        "id": "4bF3dQA1Hv_R",
        "colab": {
          "base_uri": "https://localhost:8080/"
        },
        "outputId": "67d87855-e4c8-4043-df3a-a858bf29dff8"
      },
      "source": [
        "eval = model.evaluate(X_test,Y_test)\n",
        "print(\"Test loss:\",eval)\n",
        "#print(\"Test accuracy:\",eval[1])"
      ],
      "execution_count": 11,
      "outputs": [
        {
          "output_type": "stream",
          "name": "stdout",
          "text": [
            "667/667 [==============================] - 5s 7ms/step - loss: 0.1157\n",
            "Test loss: 0.11571844667196274\n"
          ]
        }
      ]
    },
    {
      "cell_type": "markdown",
      "metadata": {
        "id": "4Y73Q-h5Hz1r"
      },
      "source": [
        "## Confusion matrix\n",
        "Calculate and display the confusion matrix."
      ]
    },
    {
      "cell_type": "code",
      "metadata": {
        "id": "cW8zZi1uJm2B",
        "colab": {
          "base_uri": "https://localhost:8080/",
          "height": 470
        },
        "outputId": "0136fde0-2c78-4319-a92a-07bcaad69769"
      },
      "source": [
        "preds=model.predict(X_test)\n",
        "conf=confusion_matrix(np.argmax(Y_test,1),np.argmax(preds,1))\n",
        "sns.heatmap(conf, annot=True, fmt='d', vmax=10000)"
      ],
      "execution_count": 12,
      "outputs": [
        {
          "output_type": "stream",
          "name": "stdout",
          "text": [
            "667/667 [==============================] - 5s 8ms/step\n"
          ]
        },
        {
          "output_type": "execute_result",
          "data": {
            "text/plain": [
              "<Axes: >"
            ]
          },
          "metadata": {},
          "execution_count": 12
        },
        {
          "output_type": "display_data",
          "data": {
            "text/plain": [
              "<Figure size 640x480 with 2 Axes>"
            ],
            "image/png": "[encoded data removed]"
          },
          "metadata": {}
        }
      ]
    },
    {
      "cell_type": "code",
      "source": [],
      "metadata": {
        "id": "E664lxRtv7nG"
      },
      "execution_count": 12,
      "outputs": []
    }
  ]
}